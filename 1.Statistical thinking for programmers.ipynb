{
 "cells": [
  {
   "cell_type": "markdown",
   "metadata": {},
   "source": [
    "# 1. Statistical thinking for programmers\n",
    "*程序员的统计思维*\n",
    "\n",
    "**概率论**（Probability）：研究随机事件，量化可能性。\n",
    "\n",
    "**统计学**（Statistics）：根据数据样本推测总体情况，大部分统计分析基于概率。\n",
    "\n",
    "**计算**（Computation）：量化分析工具，计算实验有助于概率论和统计学概念的理解。"
   ]
  },
  {
   "cell_type": "markdown",
   "metadata": {},
   "source": [
    "## 统计方法\n",
    "\n",
    "- 收集数据\n",
    "  \n",
    "- 描述性统计\n",
    " \n",
    " 计算总结数据的统计量，并评测各种数据可视化的方法。\n",
    "\n",
    "- 探索性数据分析\n",
    " \n",
    " 寻找模式、差异和其他能解答我们问题的特征，检查不一致性确认局限性。\n",
    "\n",
    "- 假设检验\n",
    " \n",
    " 发现明显的影响时需要评判这种影响是否真实，即是否是因为随机因素造成的。\n",
    "\n",
    "- 估计\n",
    " \n",
    " 用样本数据推断总体的特征。\n",
    " \n"
   ]
  },
  {
   "cell_type": "markdown",
   "metadata": {},
   "source": [
    "## 习题解答\n",
    "\n",
    "1. 数据文件下载地址是[http://greenteapress.com/thinkstats/nsfg_data.html](http://greenteapress.com/thinkstats/nsfg_data.html)，下载被调查者文件2002FemResp.dat.gz和2002FemPreg.dat.gz。\n",
    "\n",
    "2. 运行如下程序，查看文件内容："
   ]
  },
  {
   "cell_type": "code",
   "execution_count": 11,
   "metadata": {},
   "outputs": [
    {
     "name": "stdout",
     "output_type": "stream",
     "text": [
      "Number of respondents 7643\n",
      "Number of pregnancies 13593\n"
     ]
    }
   ],
   "source": [
    "import survey\n",
    "\n",
    "survey.main(name='')"
   ]
  },
  {
   "cell_type": "code",
   "execution_count": null,
   "metadata": {},
   "outputs": [],
   "source": []
  }
 ],
 "metadata": {
  "kernelspec": {
   "display_name": "Python 3",
   "language": "python",
   "name": "python3"
  },
  "language_info": {
   "codemirror_mode": {
    "name": "ipython",
    "version": 3
   },
   "file_extension": ".py",
   "mimetype": "text/x-python",
   "name": "python",
   "nbconvert_exporter": "python",
   "pygments_lexer": "ipython3",
   "version": "3.6.3"
  }
 },
 "nbformat": 4,
 "nbformat_minor": 2
}
